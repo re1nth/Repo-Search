{
 "cells": [
  {
   "cell_type": "code",
   "execution_count": 3,
   "id": "d3fd4ee0-b9e8-447d-87fe-33cbeaf520fb",
   "metadata": {},
   "outputs": [
    {
     "name": "stdout",
     "output_type": "stream",
     "text": [
      "Defaulting to user installation because normal site-packages is not writeable\n",
      "Requirement already satisfied: weaviate-client in /Users/reva/Library/Python/3.9/lib/python/site-packages (4.11.0)\n",
      "Requirement already satisfied: httpx<0.29.0,>=0.26.0 in /Users/reva/Library/Python/3.9/lib/python/site-packages (from weaviate-client) (0.28.0)\n",
      "Requirement already satisfied: validators==0.34.0 in /Users/reva/Library/Python/3.9/lib/python/site-packages (from weaviate-client) (0.34.0)\n",
      "Requirement already satisfied: authlib<1.3.2,>=1.2.1 in /Users/reva/Library/Python/3.9/lib/python/site-packages (from weaviate-client) (1.3.1)\n",
      "Requirement already satisfied: pydantic<3.0.0,>=2.8.0 in /Users/reva/Library/Python/3.9/lib/python/site-packages (from weaviate-client) (2.10.3)\n",
      "Requirement already satisfied: grpcio<2.0.0,>=1.66.2 in /Users/reva/Library/Python/3.9/lib/python/site-packages (from weaviate-client) (1.70.0)\n",
      "Requirement already satisfied: grpcio-tools<2.0.0,>=1.66.2 in /Users/reva/Library/Python/3.9/lib/python/site-packages (from weaviate-client) (1.70.0)\n",
      "Requirement already satisfied: grpcio-health-checking<2.0.0,>=1.66.2 in /Users/reva/Library/Python/3.9/lib/python/site-packages (from weaviate-client) (1.70.0)\n",
      "Requirement already satisfied: cryptography in /Users/reva/Library/Python/3.9/lib/python/site-packages (from authlib<1.3.2,>=1.2.1->weaviate-client) (44.0.1)\n",
      "Requirement already satisfied: protobuf<6.0dev,>=5.26.1 in /Users/reva/Library/Python/3.9/lib/python/site-packages (from grpcio-health-checking<2.0.0,>=1.66.2->weaviate-client) (5.29.1)\n",
      "Requirement already satisfied: setuptools in /Applications/Xcode.app/Contents/Developer/Library/Frameworks/Python3.framework/Versions/3.9/lib/python3.9/site-packages (from grpcio-tools<2.0.0,>=1.66.2->weaviate-client) (58.0.4)\n",
      "Requirement already satisfied: anyio in /Users/reva/Library/Python/3.9/lib/python/site-packages (from httpx<0.29.0,>=0.26.0->weaviate-client) (4.6.2.post1)\n",
      "Requirement already satisfied: certifi in /Users/reva/Library/Python/3.9/lib/python/site-packages (from httpx<0.29.0,>=0.26.0->weaviate-client) (2024.8.30)\n",
      "Requirement already satisfied: httpcore==1.* in /Users/reva/Library/Python/3.9/lib/python/site-packages (from httpx<0.29.0,>=0.26.0->weaviate-client) (1.0.7)\n",
      "Requirement already satisfied: idna in /Users/reva/Library/Python/3.9/lib/python/site-packages (from httpx<0.29.0,>=0.26.0->weaviate-client) (3.10)\n",
      "Requirement already satisfied: h11<0.15,>=0.13 in /Users/reva/Library/Python/3.9/lib/python/site-packages (from httpcore==1.*->httpx<0.29.0,>=0.26.0->weaviate-client) (0.14.0)\n",
      "Requirement already satisfied: annotated-types>=0.6.0 in /Users/reva/Library/Python/3.9/lib/python/site-packages (from pydantic<3.0.0,>=2.8.0->weaviate-client) (0.7.0)\n",
      "Requirement already satisfied: pydantic-core==2.27.1 in /Users/reva/Library/Python/3.9/lib/python/site-packages (from pydantic<3.0.0,>=2.8.0->weaviate-client) (2.27.1)\n",
      "Requirement already satisfied: typing-extensions>=4.12.2 in /Users/reva/Library/Python/3.9/lib/python/site-packages (from pydantic<3.0.0,>=2.8.0->weaviate-client) (4.12.2)\n",
      "Requirement already satisfied: sniffio>=1.1 in /Users/reva/Library/Python/3.9/lib/python/site-packages (from anyio->httpx<0.29.0,>=0.26.0->weaviate-client) (1.3.1)\n",
      "Requirement already satisfied: exceptiongroup>=1.0.2 in /Users/reva/Library/Python/3.9/lib/python/site-packages (from anyio->httpx<0.29.0,>=0.26.0->weaviate-client) (1.2.2)\n",
      "Requirement already satisfied: cffi>=1.12 in /Users/reva/Library/Python/3.9/lib/python/site-packages (from cryptography->authlib<1.3.2,>=1.2.1->weaviate-client) (1.17.1)\n",
      "Requirement already satisfied: pycparser in /Users/reva/Library/Python/3.9/lib/python/site-packages (from cffi>=1.12->cryptography->authlib<1.3.2,>=1.2.1->weaviate-client) (2.22)\n",
      "\n",
      "\u001b[1m[\u001b[0m\u001b[34;49mnotice\u001b[0m\u001b[1;39;49m]\u001b[0m\u001b[39;49m A new release of pip is available: \u001b[0m\u001b[31;49m24.3.1\u001b[0m\u001b[39;49m -> \u001b[0m\u001b[32;49m25.0.1\u001b[0m\n",
      "\u001b[1m[\u001b[0m\u001b[34;49mnotice\u001b[0m\u001b[1;39;49m]\u001b[0m\u001b[39;49m To update, run: \u001b[0m\u001b[32;49m/Applications/Xcode.app/Contents/Developer/usr/bin/python3 -m pip install --upgrade pip\u001b[0m\n"
     ]
    }
   ],
   "source": [
    "!pip install --upgrade weaviate-clientb"
   ]
  },
  {
   "cell_type": "code",
   "execution_count": 70,
   "id": "93372f1d-66b4-4aef-8ca0-7952761fc71b",
   "metadata": {},
   "outputs": [
    {
     "name": "stdout",
     "output_type": "stream",
     "text": [
      "Defaulting to user installation because normal site-packages is not writeable\n",
      "Requirement already satisfied: torch in /Users/reva/Library/Python/3.9/lib/python/site-packages (2.5.1)\n",
      "Collecting transformers\n",
      "  Downloading transformers-4.49.0-py3-none-any.whl.metadata (44 kB)\n",
      "Collecting sentence-transformers\n",
      "  Downloading sentence_transformers-3.4.1-py3-none-any.whl.metadata (10 kB)\n",
      "Requirement already satisfied: filelock in /Users/reva/Library/Python/3.9/lib/python/site-packages (from torch) (3.16.1)\n",
      "Requirement already satisfied: typing-extensions>=4.8.0 in /Users/reva/Library/Python/3.9/lib/python/site-packages (from torch) (4.12.2)\n",
      "Requirement already satisfied: networkx in /Users/reva/Library/Python/3.9/lib/python/site-packages (from torch) (3.2.1)\n",
      "Requirement already satisfied: jinja2 in /Users/reva/Library/Python/3.9/lib/python/site-packages (from torch) (3.1.4)\n",
      "Requirement already satisfied: fsspec in /Users/reva/Library/Python/3.9/lib/python/site-packages (from torch) (2024.10.0)\n",
      "Requirement already satisfied: sympy==1.13.1 in /Users/reva/Library/Python/3.9/lib/python/site-packages (from torch) (1.13.1)\n",
      "Requirement already satisfied: mpmath<1.4,>=1.1.0 in /Users/reva/Library/Python/3.9/lib/python/site-packages (from sympy==1.13.1->torch) (1.3.0)\n",
      "Requirement already satisfied: huggingface-hub<1.0,>=0.26.0 in /Users/reva/Library/Python/3.9/lib/python/site-packages (from transformers) (0.26.3)\n",
      "Requirement already satisfied: numpy>=1.17 in /Users/reva/Library/Python/3.9/lib/python/site-packages (from transformers) (2.0.2)\n",
      "Requirement already satisfied: packaging>=20.0 in /Users/reva/Library/Python/3.9/lib/python/site-packages (from transformers) (24.2)\n",
      "Requirement already satisfied: pyyaml>=5.1 in /Users/reva/Library/Python/3.9/lib/python/site-packages (from transformers) (6.0.2)\n",
      "Collecting regex!=2019.12.17 (from transformers)\n",
      "  Downloading regex-2024.11.6-cp39-cp39-macosx_11_0_arm64.whl.metadata (40 kB)\n",
      "Requirement already satisfied: requests in /Users/reva/Library/Python/3.9/lib/python/site-packages (from transformers) (2.32.3)\n",
      "Collecting tokenizers<0.22,>=0.21 (from transformers)\n",
      "  Downloading tokenizers-0.21.0-cp39-abi3-macosx_11_0_arm64.whl.metadata (6.7 kB)\n",
      "Requirement already satisfied: safetensors>=0.4.1 in /Users/reva/Library/Python/3.9/lib/python/site-packages (from transformers) (0.4.5)\n",
      "Requirement already satisfied: tqdm>=4.27 in /Users/reva/Library/Python/3.9/lib/python/site-packages (from transformers) (4.67.1)\n",
      "Requirement already satisfied: scikit-learn in /Users/reva/Library/Python/3.9/lib/python/site-packages (from sentence-transformers) (1.5.2)\n",
      "Requirement already satisfied: scipy in /Users/reva/Library/Python/3.9/lib/python/site-packages (from sentence-transformers) (1.13.1)\n",
      "Requirement already satisfied: Pillow in /Users/reva/Library/Python/3.9/lib/python/site-packages (from sentence-transformers) (11.0.0)\n",
      "Requirement already satisfied: MarkupSafe>=2.0 in /Users/reva/Library/Python/3.9/lib/python/site-packages (from jinja2->torch) (3.0.2)\n",
      "Requirement already satisfied: charset-normalizer<4,>=2 in /Users/reva/Library/Python/3.9/lib/python/site-packages (from requests->transformers) (3.4.0)\n",
      "Requirement already satisfied: idna<4,>=2.5 in /Users/reva/Library/Python/3.9/lib/python/site-packages (from requests->transformers) (3.10)\n",
      "Requirement already satisfied: urllib3<3,>=1.21.1 in /Users/reva/Library/Python/3.9/lib/python/site-packages (from requests->transformers) (2.2.3)\n",
      "Requirement already satisfied: certifi>=2017.4.17 in /Users/reva/Library/Python/3.9/lib/python/site-packages (from requests->transformers) (2024.8.30)\n",
      "Requirement already satisfied: joblib>=1.2.0 in /Users/reva/Library/Python/3.9/lib/python/site-packages (from scikit-learn->sentence-transformers) (1.4.2)\n",
      "Requirement already satisfied: threadpoolctl>=3.1.0 in /Users/reva/Library/Python/3.9/lib/python/site-packages (from scikit-learn->sentence-transformers) (3.5.0)\n",
      "Downloading transformers-4.49.0-py3-none-any.whl (10.0 MB)\n",
      "\u001b[2K   \u001b[38;2;114;156;31m━━━━━━━━━━━━━━━━━━━━━━━━━━━━━━━━━━━━━━━━\u001b[0m \u001b[32m10.0/10.0 MB\u001b[0m \u001b[31m5.5 MB/s\u001b[0m eta \u001b[36m0:00:00\u001b[0m31m5.5 MB/s\u001b[0m eta \u001b[36m0:00:01\u001b[0m\n",
      "\u001b[?25hDownloading sentence_transformers-3.4.1-py3-none-any.whl (275 kB)\n",
      "Downloading regex-2024.11.6-cp39-cp39-macosx_11_0_arm64.whl (284 kB)\n",
      "Downloading tokenizers-0.21.0-cp39-abi3-macosx_11_0_arm64.whl (2.6 MB)\n",
      "\u001b[2K   \u001b[38;2;114;156;31m━━━━━━━━━━━━━━━━━━━━━━━━━━━━━━━━━━━━━━━━\u001b[0m \u001b[32m2.6/2.6 MB\u001b[0m \u001b[31m7.4 MB/s\u001b[0m eta \u001b[36m0:00:00\u001b[0m MB/s\u001b[0m eta \u001b[36m0:00:01\u001b[0m\n",
      "Installing collected packages: regex, tokenizers, transformers, sentence-transformers\n",
      "Successfully installed regex-2024.11.6 sentence-transformers-3.4.1 tokenizers-0.21.0 transformers-4.49.0\n",
      "\n",
      "\u001b[1m[\u001b[0m\u001b[34;49mnotice\u001b[0m\u001b[1;39;49m]\u001b[0m\u001b[39;49m A new release of pip is available: \u001b[0m\u001b[31;49m24.3.1\u001b[0m\u001b[39;49m -> \u001b[0m\u001b[32;49m25.0.1\u001b[0m\n",
      "\u001b[1m[\u001b[0m\u001b[34;49mnotice\u001b[0m\u001b[1;39;49m]\u001b[0m\u001b[39;49m To update, run: \u001b[0m\u001b[32;49m/Applications/Xcode.app/Contents/Developer/usr/bin/python3 -m pip install --upgrade pip\u001b[0m\n"
     ]
    }
   ],
   "source": [
    "!pip install torch transformers sentence-transformers"
   ]
  },
  {
   "cell_type": "code",
   "execution_count": 1,
   "id": "fa059a43-8d72-4e1b-a58a-e38e3eed26d6",
   "metadata": {},
   "outputs": [],
   "source": [
    "import weaviate\n",
    "from weaviate.classes.config import Property, DataType, Configure\n",
    "from weaviate.classes.data import DataObject\n",
    "from weaviate.classes.query import Filter\n",
    "\n",
    "client = weaviate.connect_to_local()  # Connect with default parameters"
   ]
  },
  {
   "cell_type": "code",
   "execution_count": 2,
   "id": "cab6b87e-a20f-4851-8085-ba8547312d3b",
   "metadata": {},
   "outputs": [],
   "source": [
    "# First parse the complete code and store the plain english format of what a specific function is doing, class is doing and all the members of the class is doing. Perform this at a file level and this document will be stored as index into the vector DB. Then for the query we will be using the search results and answering appropriately."
   ]
  },
  {
   "cell_type": "code",
   "execution_count": 10,
   "id": "58cf4a77-31af-4bb5-8b12-b4c688a38964",
   "metadata": {},
   "outputs": [
    {
     "name": "stdout",
     "output_type": "stream",
     "text": [
      "'Document' collection already exists.\n",
      "Prepared document with UUID: 6756629f-7287-4da0-8603-b3e0289c645a\n",
      "Prepared document with UUID: cf3fea4b-7cef-4122-8f47-9375106cc77f\n",
      "Prepared document with UUID: 8b379b72-83d4-4e0c-9875-1c6daf127e44\n",
      "Documents inserted and vectorized.\n"
     ]
    },
    {
     "ename": "AttributeError",
     "evalue": "'QueryReturn' object has no attribute 'with_additional'",
     "output_type": "error",
     "traceback": [
      "\u001b[0;31m---------------------------------------------------------------------------\u001b[0m",
      "\u001b[0;31mAttributeError\u001b[0m                            Traceback (most recent call last)",
      "Cell \u001b[0;32mIn[10], line 102\u001b[0m\n\u001b[1;32m     99\u001b[0m         client\u001b[38;5;241m.\u001b[39mclose()\n\u001b[1;32m    101\u001b[0m \u001b[38;5;28;01mif\u001b[39;00m \u001b[38;5;18m__name__\u001b[39m \u001b[38;5;241m==\u001b[39m \u001b[38;5;124m\"\u001b[39m\u001b[38;5;124m__main__\u001b[39m\u001b[38;5;124m\"\u001b[39m:\n\u001b[0;32m--> 102\u001b[0m     \u001b[43mmain\u001b[49m\u001b[43m(\u001b[49m\u001b[43m)\u001b[49m\n",
      "Cell \u001b[0;32mIn[10], line 95\u001b[0m, in \u001b[0;36mmain\u001b[0;34m()\u001b[0m\n\u001b[1;32m     93\u001b[0m \u001b[38;5;66;03m# Perform a semantic search query.\u001b[39;00m\n\u001b[1;32m     94\u001b[0m search_query \u001b[38;5;241m=\u001b[39m \u001b[38;5;124m\"\u001b[39m\u001b[38;5;124mcricket\u001b[39m\u001b[38;5;124m\"\u001b[39m\n\u001b[0;32m---> 95\u001b[0m results \u001b[38;5;241m=\u001b[39m \u001b[43mquery_documents\u001b[49m\u001b[43m(\u001b[49m\u001b[43mclient\u001b[49m\u001b[43m,\u001b[49m\u001b[43m \u001b[49m\u001b[43msearch_query\u001b[49m\u001b[43m)\u001b[49m\n\u001b[1;32m     96\u001b[0m \u001b[38;5;28mprint\u001b[39m(\u001b[38;5;124m\"\u001b[39m\u001b[38;5;124mQuery results:\u001b[39m\u001b[38;5;124m\"\u001b[39m)\n\u001b[1;32m     97\u001b[0m \u001b[38;5;28mprint\u001b[39m(json\u001b[38;5;241m.\u001b[39mdumps(results, indent\u001b[38;5;241m=\u001b[39m\u001b[38;5;241m2\u001b[39m, default\u001b[38;5;241m=\u001b[39m\u001b[38;5;28mstr\u001b[39m))\n",
      "Cell \u001b[0;32mIn[10], line 61\u001b[0m, in \u001b[0;36mquery_documents\u001b[0;34m(client, query_text, limit)\u001b[0m\n\u001b[1;32m     55\u001b[0m \u001b[38;5;250m\u001b[39m\u001b[38;5;124;03m\"\"\"\u001b[39;00m\n\u001b[1;32m     56\u001b[0m \u001b[38;5;124;03mPerform a semantic search (nearText query) on the 'Document' collection.\u001b[39;00m\n\u001b[1;32m     57\u001b[0m \u001b[38;5;124;03mSince the collection is configured with a vectorizer, the query text\u001b[39;00m\n\u001b[1;32m     58\u001b[0m \u001b[38;5;124;03mwill be vectorized automatically.\u001b[39;00m\n\u001b[1;32m     59\u001b[0m \u001b[38;5;124;03m\"\"\"\u001b[39;00m\n\u001b[1;32m     60\u001b[0m collection \u001b[38;5;241m=\u001b[39m client\u001b[38;5;241m.\u001b[39mcollections\u001b[38;5;241m.\u001b[39mget(\u001b[38;5;124m\"\u001b[39m\u001b[38;5;124mDocumentX\u001b[39m\u001b[38;5;124m\"\u001b[39m)\n\u001b[0;32m---> 61\u001b[0m result \u001b[38;5;241m=\u001b[39m (\u001b[43mcollection\u001b[49m\u001b[38;5;241;43m.\u001b[39;49m\u001b[43mquery\u001b[49m\n\u001b[1;32m     62\u001b[0m \u001b[43m          \u001b[49m\u001b[38;5;241;43m.\u001b[39;49m\u001b[43mnear_text\u001b[49m\u001b[43m(\u001b[49m\u001b[43mquery_text\u001b[49m\u001b[43m)\u001b[49m\u001b[38;5;241;43m.\u001b[39;49m\u001b[43mwith_additional\u001b[49m([\u001b[38;5;124m\"\u001b[39m\u001b[38;5;124mcertainty\u001b[39m\u001b[38;5;124m\"\u001b[39m, \u001b[38;5;124m\"\u001b[39m\u001b[38;5;124mdistance\u001b[39m\u001b[38;5;124m\"\u001b[39m])\u001b[38;5;241m.\u001b[39mdo())  \u001b[38;5;66;03m# Pass query_text as a string or list of strings    \u001b[39;00m\n\u001b[1;32m     64\u001b[0m \u001b[38;5;28;01mreturn\u001b[39;00m result\n",
      "\u001b[0;31mAttributeError\u001b[0m: 'QueryReturn' object has no attribute 'with_additional'"
     ]
    }
   ],
   "source": [
    "import os\n",
    "import weaviate\n",
    "import weaviate.classes.config as wvcc\n",
    "import uuid\n",
    "import json\n",
    "\n",
    "def create_document_collection(client):\n",
    "    \"\"\"\n",
    "    Create the 'Document' collection with a vectorizer so that:\n",
    "    - Documents are vectorized on insertion.\n",
    "    - Search queries (nearText) are vectorized automatically.\n",
    "    \"\"\"\n",
    "    try:\n",
    "        # Try to retrieve the collection; if it doesn't exist, an error will be raised.\n",
    "        client.collections.get(\"DocumentX\")\n",
    "        print(\"'Document' collection already exists.\")\n",
    "    except weaviate.exceptions.UnexpectedStatusCodeError:\n",
    "        document_schema = {\n",
    "            \"name\": \"Document\",\n",
    "            \"description\": \"A document with text content\",\n",
    "            \"properties\": [\n",
    "                {\"name\": \"title\", \"dataType\": [\"text\"]},\n",
    "                {\"name\": \"content\", \"dataType\": [\"text\"]}\n",
    "            ]\n",
    "        }\n",
    "        # Here we configure the vectorizer (using OpenAI in this example).\n",
    "        # Ensure you have the required API key by setting the environment variable \"OPENAI_APIKEY\".\n",
    "        client.collections.create(\n",
    "            document_schema,\n",
    "            vectorizer_config=wvcc.Configure.Vectorizer.text2vec_huggingface(\n",
    "                model_name=\"sentence-transformers/all-MiniLM-L6-v2\"\n",
    "            )\n",
    "        )\n",
    "        \n",
    "        print(\"Created 'Document' collection with vectorizer configuration.\")\n",
    "\n",
    "def store_documents(client, documents):\n",
    "    \"\"\"\n",
    "    Store documents in the 'Document' collection.\n",
    "    The collection’s vectorizer will automatically compute vectors for each document.\n",
    "    \"\"\"\n",
    "    collection = client.collections.get(\"DocumentX\")\n",
    "    data_objects = []\n",
    "    for doc in documents:\n",
    "        doc_uuid = str(uuid.uuid4())\n",
    "        data_objects.append({\n",
    "            \"uuid\": doc_uuid,\n",
    "            \"properties\": doc\n",
    "        })\n",
    "        print(f\"Prepared document with UUID: {doc_uuid}\")\n",
    "    collection.data.insert_many(data_objects)\n",
    "    print(\"Documents inserted and vectorized.\")\n",
    "\n",
    "def query_documents(client, query_text, limit=5):\n",
    "    \"\"\"\n",
    "    Perform a semantic search (nearText query) on the 'Document' collection.\n",
    "    Since the collection is configured with a vectorizer, the query text\n",
    "    will be vectorized automatically.\n",
    "    \"\"\"\n",
    "    collection = client.collections.get(\"DocumentX\")\n",
    "    result = (collection.query\n",
    "              .near_text(query_text))  # Pass query_text as a string or list of strings\n",
    "    return result\n",
    "\n",
    "def main():\n",
    "    # Set up the connection.\n",
    "    # If using OpenAI vectorizer, make sure to set the API key header.\n",
    "    client = weaviate.connect_to_local()\n",
    "    try:\n",
    "        # Create the collection (if not already created) with vectorizer configured.\n",
    "        create_document_collection(client)\n",
    "\n",
    "        # Sample documents to be stored and vectorized.\n",
    "        documents = [\n",
    "            {\n",
    "                \"title\": \"Introduction to Weaviate\",\n",
    "                \"content\": \"Weaviate is a vector database that allows you to store and search data using machine learning embeddings.\"\n",
    "            },\n",
    "            {\n",
    "                \"title\": \"Tennis Open\",\n",
    "                \"content\": \"Sinner being out of the tennis tournament is such a dark day for Tennis\"\n",
    "            },\n",
    "            {\n",
    "                \"title\": \"India vs Pakistan cricket match\",\n",
    "                \"content\": \"There is nothing like a cricket match between these two nations\"\n",
    "            }\n",
    "        ]\n",
    "\n",
    "        # Insert the documents into the collection.\n",
    "        store_documents(client, documents)\n",
    "\n",
    "        # Perform a semantic search query.\n",
    "        search_query = \"cricket\"\n",
    "        results = query_documents(client, search_query)\n",
    "        print(\"Query results:\")\n",
    "        print(json.dumps(results, indent=2, default=str))\n",
    "    finally:\n",
    "        client.close()\n",
    "\n",
    "if __name__ == \"__main__\":\n",
    "    main()"
   ]
  },
  {
   "cell_type": "code",
   "execution_count": 8,
   "id": "140f0f06-f5ce-4c44-95b4-797b95d5938d",
   "metadata": {},
   "outputs": [
    {
     "name": "stdout",
     "output_type": "stream",
     "text": [
      "{'grpcMaxMessageSize': 104858000, 'hostname': 'http://[::]:8080', 'modules': {'text2vec-transformers': {'model': {'_attn_implementation_autoset': False, '_name_or_path': './models/model', 'add_cross_attention': False, 'architectures': ['BertModel'], 'attention_probs_dropout_prob': 0.1, 'bad_words_ids': None, 'begin_suppress_tokens': None, 'bos_token_id': None, 'chunk_size_feed_forward': 0, 'classifier_dropout': None, 'cross_attention_hidden_size': None, 'decoder_start_token_id': None, 'diversity_penalty': 0, 'do_sample': False, 'early_stopping': False, 'encoder_no_repeat_ngram_size': 0, 'eos_token_id': None, 'exponential_decay_length_penalty': None, 'finetuning_task': None, 'forced_bos_token_id': None, 'forced_eos_token_id': None, 'gradient_checkpointing': False, 'hidden_act': 'gelu', 'hidden_dropout_prob': 0.1, 'hidden_size': 384, 'id2label': {'0': 'LABEL_0', '1': 'LABEL_1'}, 'initializer_range': 0.02, 'intermediate_size': 1536, 'is_decoder': False, 'is_encoder_decoder': False, 'label2id': {'LABEL_0': 0, 'LABEL_1': 1}, 'layer_norm_eps': 1e-12, 'length_penalty': 1, 'max_length': 20, 'max_position_embeddings': 512, 'min_length': 0, 'model_type': 'bert', 'no_repeat_ngram_size': 0, 'num_attention_heads': 12, 'num_beam_groups': 1, 'num_beams': 1, 'num_hidden_layers': 6, 'num_return_sequences': 1, 'output_attentions': False, 'output_hidden_states': False, 'output_scores': False, 'pad_token_id': 0, 'position_embedding_type': 'absolute', 'prefix': None, 'problem_type': None, 'pruned_heads': {}, 'remove_invalid_values': False, 'repetition_penalty': 1, 'return_dict': True, 'return_dict_in_generate': False, 'sep_token_id': None, 'suppress_tokens': None, 'task_specific_params': None, 'temperature': 1, 'tf_legacy_loss': False, 'tie_encoder_decoder': False, 'tie_word_embeddings': True, 'tokenizer_class': None, 'top_k': 50, 'top_p': 1, 'torch_dtype': 'float32', 'torchscript': False, 'transformers_version': '4.48.2', 'type_vocab_size': 2, 'typical_p': 1, 'use_bfloat16': False, 'use_cache': True, 'vocab_size': 30522}, 'model_path': './models/model'}}, 'version': '1.29.0'}\n"
     ]
    }
   ],
   "source": [
    "meta = client.get_meta()\n",
    "print(meta)"
   ]
  },
  {
   "cell_type": "code",
   "execution_count": null,
   "id": "42cf69f6-c97f-4226-b330-8f87fadd92b3",
   "metadata": {},
   "outputs": [],
   "source": []
  }
 ],
 "metadata": {
  "kernelspec": {
   "display_name": "Python 3 (ipykernel)",
   "language": "python",
   "name": "python3"
  },
  "language_info": {
   "codemirror_mode": {
    "name": "ipython",
    "version": 3
   },
   "file_extension": ".py",
   "mimetype": "text/x-python",
   "name": "python",
   "nbconvert_exporter": "python",
   "pygments_lexer": "ipython3",
   "version": "3.9.6"
  }
 },
 "nbformat": 4,
 "nbformat_minor": 5
}
